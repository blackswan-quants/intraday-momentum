{
 "cells": [
  {
   "cell_type": "markdown",
   "id": "b779446f",
   "metadata": {},
   "source": [
    "# Raw Data Fetching and Exploration\n",
    "\n",
    "This notebook demonstrates how to:\n",
    "- Fetch minute-level data for SPY using Polygon.io API\n",
    "- Fetch daily data for VIX using Yahoo Finance\n",
    "- Load and validate CSV data\n",
    "- Analyze calendar coverage and identify missing trading days\n"
   ]
  },
  {
   "cell_type": "code",
   "execution_count": 12,
   "id": "d0eaf8cb",
   "metadata": {},
   "outputs": [
    {
     "name": "stdout",
     "output_type": "stream",
     "text": [
      "\n",
      "============================================================\n",
      "Fetching data from 2023-10-27 to 2025-10-27\n",
      "Project root: c:\\Users\\simo0\\Documents\\GitHub\\intraday-momentum\n",
      "============================================================\n",
      "\n"
     ]
    }
   ],
   "source": [
    "import sys\n",
    "import os\n",
    "from pathlib import Path\n",
    "import importlib\n",
    "\n",
    "# Get the project root directory (parent of notebooks/)\n",
    "project_root = Path.cwd().parent if Path.cwd().name == 'notebooks' else Path.cwd()\n",
    "\n",
    "# Add src directory to Python path\n",
    "sys.path.insert(0, str(project_root / 'src'))\n",
    "\n",
    "# Import and reload to pick up any code changes\n",
    "try:\n",
    "    from classes.data import loader as loader_module\n",
    "except ImportError:\n",
    "    # First time import\n",
    "    import classes.data.loader as loader_module\n",
    "else:\n",
    "    # Module already imported, reload it\n",
    "    importlib.reload(loader_module)\n",
    "\n",
    "from classes.data.loader import DataLoader\n",
    "from datetime import datetime, timedelta\n",
    "\n",
    "# Initialize DataLoader\n",
    "loader = DataLoader()\n",
    "\n",
    "# Calculate date range for last 2 years\n",
    "end_date = (datetime.now() - timedelta(days=1)).strftime('%Y-%m-%d')\n",
    "start_date = (datetime.now() - timedelta(days=732)).strftime('%Y-%m-%d')\n",
    "\n",
    "print(f\"\\n{'='*60}\")\n",
    "print(f\"Fetching data from {start_date} to {end_date}\")\n",
    "print(f\"Project root: {project_root}\")\n",
    "print(f\"{'='*60}\\n\")\n"
   ]
  },
  {
   "cell_type": "markdown",
   "id": "3164954a",
   "metadata": {},
   "source": [
    "### 2. Fetch SPY Minute Data\n",
    "\n",
    "Fetch 1-minute intraday data for SPY using Polygon.io API (last 2 years).\n"
   ]
  },
  {
   "cell_type": "code",
   "execution_count": 13,
   "id": "05d5a0db",
   "metadata": {},
   "outputs": [
    {
     "name": "stdout",
     "output_type": "stream",
     "text": [
      "Fetched 50000 entries\n",
      "Fetched 50000 entries\n",
      "Fetched 50000 entries\n",
      "Fetched 50000 entries\n",
      "Fetched 50000 entries\n",
      "Rate limit reached. Waiting 26.07 seconds...\n",
      "Fetched 50000 entries\n",
      "Fetched 50000 entries\n",
      "Fetched 50000 entries\n",
      "Fetched 1018 entries\n",
      "Data fetching complete. Total entries: 194105\n",
      "Data saved to: c:\\Users\\simo0\\Documents\\GitHub\\intraday-momentum\\data\\raw\\SPY_1min_20231027_20251027.csv\n",
      "\n",
      "SPY DataFrame shape: (194105, 6)\n",
      "Columns: ['volume', 'open', 'high', 'low', 'close', 'caldt']\n"
     ]
    },
    {
     "data": {
      "text/html": [
       "<div>\n",
       "<style scoped>\n",
       "    .dataframe tbody tr th:only-of-type {\n",
       "        vertical-align: middle;\n",
       "    }\n",
       "\n",
       "    .dataframe tbody tr th {\n",
       "        vertical-align: top;\n",
       "    }\n",
       "\n",
       "    .dataframe thead th {\n",
       "        text-align: right;\n",
       "    }\n",
       "</style>\n",
       "<table border=\"1\" class=\"dataframe\">\n",
       "  <thead>\n",
       "    <tr style=\"text-align: right;\">\n",
       "      <th></th>\n",
       "      <th>volume</th>\n",
       "      <th>open</th>\n",
       "      <th>high</th>\n",
       "      <th>low</th>\n",
       "      <th>close</th>\n",
       "      <th>caldt</th>\n",
       "    </tr>\n",
       "  </thead>\n",
       "  <tbody>\n",
       "    <tr>\n",
       "      <th>0</th>\n",
       "      <td>630285.0</td>\n",
       "      <td>413.560</td>\n",
       "      <td>413.94</td>\n",
       "      <td>413.530</td>\n",
       "      <td>413.770</td>\n",
       "      <td>2023-10-30 09:30:00</td>\n",
       "    </tr>\n",
       "    <tr>\n",
       "      <th>1</th>\n",
       "      <td>322290.0</td>\n",
       "      <td>413.780</td>\n",
       "      <td>414.01</td>\n",
       "      <td>413.750</td>\n",
       "      <td>413.882</td>\n",
       "      <td>2023-10-30 09:31:00</td>\n",
       "    </tr>\n",
       "    <tr>\n",
       "      <th>2</th>\n",
       "      <td>455364.0</td>\n",
       "      <td>413.910</td>\n",
       "      <td>414.21</td>\n",
       "      <td>413.845</td>\n",
       "      <td>414.140</td>\n",
       "      <td>2023-10-30 09:32:00</td>\n",
       "    </tr>\n",
       "    <tr>\n",
       "      <th>3</th>\n",
       "      <td>269190.0</td>\n",
       "      <td>414.130</td>\n",
       "      <td>414.24</td>\n",
       "      <td>414.050</td>\n",
       "      <td>414.205</td>\n",
       "      <td>2023-10-30 09:33:00</td>\n",
       "    </tr>\n",
       "    <tr>\n",
       "      <th>4</th>\n",
       "      <td>330914.0</td>\n",
       "      <td>414.205</td>\n",
       "      <td>414.32</td>\n",
       "      <td>414.205</td>\n",
       "      <td>414.270</td>\n",
       "      <td>2023-10-30 09:34:00</td>\n",
       "    </tr>\n",
       "  </tbody>\n",
       "</table>\n",
       "</div>"
      ],
      "text/plain": [
       "     volume     open    high      low    close               caldt\n",
       "0  630285.0  413.560  413.94  413.530  413.770 2023-10-30 09:30:00\n",
       "1  322290.0  413.780  414.01  413.750  413.882 2023-10-30 09:31:00\n",
       "2  455364.0  413.910  414.21  413.845  414.140 2023-10-30 09:32:00\n",
       "3  269190.0  414.130  414.24  414.050  414.205 2023-10-30 09:33:00\n",
       "4  330914.0  414.205  414.32  414.205  414.270 2023-10-30 09:34:00"
      ]
     },
     "execution_count": 13,
     "metadata": {},
     "output_type": "execute_result"
    }
   ],
   "source": [
    "spy_df = loader.fetch_polygon_data('SPY', start_date, end_date, 'minute')\n",
    "print(f\"\\nSPY DataFrame shape: {spy_df.shape}\")\n",
    "print(f\"Columns: {spy_df.columns.tolist()}\")\n",
    "spy_df.head()\n"
   ]
  },
  {
   "cell_type": "markdown",
   "id": "7f015df7",
   "metadata": {},
   "source": [
    "### 3. Fetch VIX Daily Data\n",
    "\n",
    "Fetch daily closing data for VIX using Yahoo Finance (last 2 years).\n"
   ]
  },
  {
   "cell_type": "code",
   "execution_count": 14,
   "id": "b82e7ed3",
   "metadata": {},
   "outputs": [
    {
     "name": "stdout",
     "output_type": "stream",
     "text": [
      "Fetched 500 entries from Yahoo Finance\n",
      "Data saved to: c:\\Users\\simo0\\Documents\\GitHub\\intraday-momentum\\data\\raw\\^VIX_1day_20231027_20251027.csv\n",
      "\n",
      "VIX DataFrame shape: (500, 6)\n",
      "Columns: ['volume', 'open', 'high', 'low', 'close', 'caldt']\n"
     ]
    },
    {
     "data": {
      "text/html": [
       "<div>\n",
       "<style scoped>\n",
       "    .dataframe tbody tr th:only-of-type {\n",
       "        vertical-align: middle;\n",
       "    }\n",
       "\n",
       "    .dataframe tbody tr th {\n",
       "        vertical-align: top;\n",
       "    }\n",
       "\n",
       "    .dataframe thead th {\n",
       "        text-align: right;\n",
       "    }\n",
       "</style>\n",
       "<table border=\"1\" class=\"dataframe\">\n",
       "  <thead>\n",
       "    <tr style=\"text-align: right;\">\n",
       "      <th></th>\n",
       "      <th>volume</th>\n",
       "      <th>open</th>\n",
       "      <th>high</th>\n",
       "      <th>low</th>\n",
       "      <th>close</th>\n",
       "      <th>caldt</th>\n",
       "    </tr>\n",
       "  </thead>\n",
       "  <tbody>\n",
       "    <tr>\n",
       "      <th>0</th>\n",
       "      <td>0</td>\n",
       "      <td>20.389999</td>\n",
       "      <td>22.070000</td>\n",
       "      <td>19.719999</td>\n",
       "      <td>21.270000</td>\n",
       "      <td>2023-10-27 00:00:00-05:00</td>\n",
       "    </tr>\n",
       "    <tr>\n",
       "      <th>1</th>\n",
       "      <td>0</td>\n",
       "      <td>21.129999</td>\n",
       "      <td>21.160000</td>\n",
       "      <td>19.549999</td>\n",
       "      <td>19.750000</td>\n",
       "      <td>2023-10-30 00:00:00-05:00</td>\n",
       "    </tr>\n",
       "    <tr>\n",
       "      <th>2</th>\n",
       "      <td>0</td>\n",
       "      <td>19.860001</td>\n",
       "      <td>19.860001</td>\n",
       "      <td>17.969999</td>\n",
       "      <td>18.139999</td>\n",
       "      <td>2023-10-31 00:00:00-05:00</td>\n",
       "    </tr>\n",
       "    <tr>\n",
       "      <th>3</th>\n",
       "      <td>0</td>\n",
       "      <td>18.020000</td>\n",
       "      <td>18.420000</td>\n",
       "      <td>16.629999</td>\n",
       "      <td>16.870001</td>\n",
       "      <td>2023-11-01 00:00:00-05:00</td>\n",
       "    </tr>\n",
       "    <tr>\n",
       "      <th>4</th>\n",
       "      <td>0</td>\n",
       "      <td>16.590000</td>\n",
       "      <td>16.620001</td>\n",
       "      <td>15.580000</td>\n",
       "      <td>15.660000</td>\n",
       "      <td>2023-11-02 00:00:00-05:00</td>\n",
       "    </tr>\n",
       "  </tbody>\n",
       "</table>\n",
       "</div>"
      ],
      "text/plain": [
       "   volume       open       high        low      close  \\\n",
       "0       0  20.389999  22.070000  19.719999  21.270000   \n",
       "1       0  21.129999  21.160000  19.549999  19.750000   \n",
       "2       0  19.860001  19.860001  17.969999  18.139999   \n",
       "3       0  18.020000  18.420000  16.629999  16.870001   \n",
       "4       0  16.590000  16.620001  15.580000  15.660000   \n",
       "\n",
       "                      caldt  \n",
       "0 2023-10-27 00:00:00-05:00  \n",
       "1 2023-10-30 00:00:00-05:00  \n",
       "2 2023-10-31 00:00:00-05:00  \n",
       "3 2023-11-01 00:00:00-05:00  \n",
       "4 2023-11-02 00:00:00-05:00  "
      ]
     },
     "execution_count": 14,
     "metadata": {},
     "output_type": "execute_result"
    }
   ],
   "source": [
    "vix_df = loader.fetch_yahoo_data('^VIX', start_date, end_date, 'day')\n",
    "print(f\"\\nVIX DataFrame shape: {vix_df.shape}\")\n",
    "print(f\"Columns: {vix_df.columns.tolist()}\")\n",
    "vix_df.head()\n"
   ]
  },
  {
   "cell_type": "markdown",
   "id": "c4b12e4f",
   "metadata": {},
   "source": [
    "### 4. Load CSV Data\n",
    "\n",
    "Load previously saved CSV files to verify the data was saved correctly.\n"
   ]
  },
  {
   "cell_type": "code",
   "execution_count": 15,
   "id": "f80b88fb",
   "metadata": {},
   "outputs": [
    {
     "name": "stdout",
     "output_type": "stream",
     "text": [
      "Loaded CSV with shape: (194105, 6)\n"
     ]
    },
    {
     "data": {
      "text/html": [
       "<div>\n",
       "<style scoped>\n",
       "    .dataframe tbody tr th:only-of-type {\n",
       "        vertical-align: middle;\n",
       "    }\n",
       "\n",
       "    .dataframe tbody tr th {\n",
       "        vertical-align: top;\n",
       "    }\n",
       "\n",
       "    .dataframe thead th {\n",
       "        text-align: right;\n",
       "    }\n",
       "</style>\n",
       "<table border=\"1\" class=\"dataframe\">\n",
       "  <thead>\n",
       "    <tr style=\"text-align: right;\">\n",
       "      <th></th>\n",
       "      <th>volume</th>\n",
       "      <th>open</th>\n",
       "      <th>high</th>\n",
       "      <th>low</th>\n",
       "      <th>close</th>\n",
       "      <th>caldt</th>\n",
       "    </tr>\n",
       "  </thead>\n",
       "  <tbody>\n",
       "    <tr>\n",
       "      <th>0</th>\n",
       "      <td>630285.0</td>\n",
       "      <td>413.560</td>\n",
       "      <td>413.94</td>\n",
       "      <td>413.530</td>\n",
       "      <td>413.770</td>\n",
       "      <td>2023-10-30 09:30:00</td>\n",
       "    </tr>\n",
       "    <tr>\n",
       "      <th>1</th>\n",
       "      <td>322290.0</td>\n",
       "      <td>413.780</td>\n",
       "      <td>414.01</td>\n",
       "      <td>413.750</td>\n",
       "      <td>413.882</td>\n",
       "      <td>2023-10-30 09:31:00</td>\n",
       "    </tr>\n",
       "    <tr>\n",
       "      <th>2</th>\n",
       "      <td>455364.0</td>\n",
       "      <td>413.910</td>\n",
       "      <td>414.21</td>\n",
       "      <td>413.845</td>\n",
       "      <td>414.140</td>\n",
       "      <td>2023-10-30 09:32:00</td>\n",
       "    </tr>\n",
       "    <tr>\n",
       "      <th>3</th>\n",
       "      <td>269190.0</td>\n",
       "      <td>414.130</td>\n",
       "      <td>414.24</td>\n",
       "      <td>414.050</td>\n",
       "      <td>414.205</td>\n",
       "      <td>2023-10-30 09:33:00</td>\n",
       "    </tr>\n",
       "    <tr>\n",
       "      <th>4</th>\n",
       "      <td>330914.0</td>\n",
       "      <td>414.205</td>\n",
       "      <td>414.32</td>\n",
       "      <td>414.205</td>\n",
       "      <td>414.270</td>\n",
       "      <td>2023-10-30 09:34:00</td>\n",
       "    </tr>\n",
       "  </tbody>\n",
       "</table>\n",
       "</div>"
      ],
      "text/plain": [
       "     volume     open    high      low    close                caldt\n",
       "0  630285.0  413.560  413.94  413.530  413.770  2023-10-30 09:30:00\n",
       "1  322290.0  413.780  414.01  413.750  413.882  2023-10-30 09:31:00\n",
       "2  455364.0  413.910  414.21  413.845  414.140  2023-10-30 09:32:00\n",
       "3  269190.0  414.130  414.24  414.050  414.205  2023-10-30 09:33:00\n",
       "4  330914.0  414.205  414.32  414.205  414.270  2023-10-30 09:34:00"
      ]
     },
     "execution_count": 15,
     "metadata": {},
     "output_type": "execute_result"
    }
   ],
   "source": [
    "# Example: Load the SPY CSV file we just created\n",
    "spy_file_path = project_root / 'data/raw/SPY_1min_20231027_20251027.csv'\n",
    "vix_file_path = project_root / 'data/raw/^VIX_1day_20231027_20251027.csv'\n",
    "spy_df = loader.load_csv(spy_file_path)\n",
    "vix_df = loader.load_csv(vix_file_path)\n",
    "print(f\"Loaded CSV with shape: {spy_df.shape}\")\n",
    "spy_df.head()\n"
   ]
  },
  {
   "cell_type": "markdown",
   "id": "01227818",
   "metadata": {},
   "source": [
    "### 5. Validate Calendar Coverage\n",
    "\n",
    "Analyze the calendar coverage to identify missing trading days and calculate coverage statistics.\n",
    "The function only considers business days (weekdays) since markets don't trade on weekends.\n"
   ]
  },
  {
   "cell_type": "code",
   "execution_count": 16,
   "id": "34927767",
   "metadata": {},
   "outputs": [
    {
     "name": "stdout",
     "output_type": "stream",
     "text": [
      "SPY Calendar Coverage:\n",
      "Total days: 500\n",
      "Expected days: 521\n",
      "Coverage: 95.97%\n",
      "Date range: (datetime.date(2023, 10, 30), datetime.date(2025, 10, 27))\n",
      "Missing dates: 21\n",
      "Weekdays: 500, Weekends: 0\n",
      "First 10 missing: [datetime.date(2023, 11, 23), datetime.date(2023, 12, 25), datetime.date(2024, 1, 1), datetime.date(2024, 1, 15), datetime.date(2024, 2, 19), datetime.date(2024, 3, 29), datetime.date(2024, 5, 27), datetime.date(2024, 6, 19), datetime.date(2024, 7, 4), datetime.date(2024, 9, 2)]\n"
     ]
    }
   ],
   "source": [
    "# Validate SPY calendar coverage\n",
    "spy_calendar = loader.validate_calendar(spy_df)\n",
    "print(\"SPY Calendar Coverage:\")\n",
    "print(f\"Total days: {spy_calendar['total_days']}\")\n",
    "print(f\"Expected days: {spy_calendar['expected_days']}\")\n",
    "print(f\"Coverage: {spy_calendar['coverage_percentage']}%\")\n",
    "print(f\"Date range: {spy_calendar['date_range']}\")\n",
    "print(f\"Missing dates: {spy_calendar['missing_dates_count']}\")\n",
    "print(f\"Weekdays: {spy_calendar['weekday_count']}, Weekends: {spy_calendar['weekend_count']}\")\n",
    "if spy_calendar['missing_dates']:\n",
    "    print(f\"First 10 missing: {spy_calendar['missing_dates'][:10]}\")\n"
   ]
  },
  {
   "cell_type": "code",
   "execution_count": 17,
   "id": "1b304f37",
   "metadata": {},
   "outputs": [
    {
     "name": "stdout",
     "output_type": "stream",
     "text": [
      "VIX Calendar Coverage:\n",
      "Total days: 500\n",
      "Expected days: 521\n",
      "Coverage: 95.97%\n",
      "Date range: (datetime.date(2023, 10, 27), datetime.date(2025, 10, 24))\n",
      "Missing dates: 21\n",
      "Weekdays: 500, Weekends: 0\n",
      "First 10 missing: [datetime.date(2023, 11, 23), datetime.date(2023, 12, 25), datetime.date(2024, 1, 1), datetime.date(2024, 1, 15), datetime.date(2024, 2, 19), datetime.date(2024, 3, 29), datetime.date(2024, 5, 27), datetime.date(2024, 6, 19), datetime.date(2024, 7, 4), datetime.date(2024, 9, 2)]\n"
     ]
    }
   ],
   "source": [
    "# Validate VIX calendar coverage\n",
    "vix_calendar = loader.validate_calendar(vix_df)\n",
    "print(\"VIX Calendar Coverage:\")\n",
    "print(f\"Total days: {vix_calendar['total_days']}\")\n",
    "print(f\"Expected days: {vix_calendar['expected_days']}\")\n",
    "print(f\"Coverage: {vix_calendar['coverage_percentage']}%\")\n",
    "print(f\"Date range: {vix_calendar['date_range']}\")\n",
    "print(f\"Missing dates: {vix_calendar['missing_dates_count']}\")\n",
    "print(f\"Weekdays: {vix_calendar['weekday_count']}, Weekends: {vix_calendar['weekend_count']}\")\n",
    "if vix_calendar['missing_dates']:\n",
    "    print(f\"First 10 missing: {vix_calendar['missing_dates'][:10]}\")\n"
   ]
  }
 ],
 "metadata": {
  "kernelspec": {
   "display_name": ".venv",
   "language": "python",
   "name": "python3"
  },
  "language_info": {
   "codemirror_mode": {
    "name": "ipython",
    "version": 3
   },
   "file_extension": ".py",
   "mimetype": "text/x-python",
   "name": "python",
   "nbconvert_exporter": "python",
   "pygments_lexer": "ipython3",
   "version": "3.12.3"
  }
 },
 "nbformat": 4,
 "nbformat_minor": 5
}
